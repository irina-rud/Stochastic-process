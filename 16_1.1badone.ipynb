{
 "cells": [
  {
   "cell_type": "code",
   "execution_count": 1,
   "metadata": {
    "collapsed": false
   },
   "outputs": [],
   "source": [
    "from BranchingProcess import Person, BranchingProcess, read_from_files\n",
    "import numpy as np\n",
    "import scipy.stats as sps\n",
    "import matplotlib.pyplot as plt\n",
    "from collections import Counter\n",
    "import plotly as py\n",
    "import plotly.graph_objs as go\n",
    "from datetime import date, timedelta,datetime\n",
    "\n",
    "%matplotlib inline\n",
    "\n",
    "py.tools.set_credentials_file(username='roller145', api_key='8ggrhbcyaw')"
   ]
  },
  {
   "cell_type": "code",
   "execution_count": 2,
   "metadata": {
    "collapsed": false
   },
   "outputs": [
    {
     "name": "stdout",
     "output_type": "stream",
     "text": [
      "number of processes:68532\n"
     ]
    }
   ],
   "source": [
    "V = ['E', 'N', 'W', 'C', 'Q', 'G', 'R', 'F', 'O', 'I']\n",
    "V = map(lambda x: x + '.txt',V)\n",
    "V = list(V)\n",
    "P = read_from_files(V)\n",
    "num1 = len(P) \n",
    "print( 'number of processes:' + str(num1))"
   ]
  },
  {
   "cell_type": "code",
   "execution_count": 3,
   "metadata": {
    "collapsed": false
   },
   "outputs": [],
   "source": [
    "Persons = []\n",
    "for proc in P:\n",
    "    for gen in proc.generations:\n",
    "        for per in gen:\n",
    "            if ((per.birthday != '') | (per.deathdate != '')):\n",
    "                Persons.append(per)\n"
   ]
  },
  {
   "cell_type": "code",
   "execution_count": 4,
   "metadata": {
    "collapsed": false
   },
   "outputs": [
    {
     "name": "stdout",
     "output_type": "stream",
     "text": [
      "number of processes with second generation:19769\n"
     ]
    }
   ],
   "source": [
    "P = [p for p in P if len(p.generations) > 1]\n",
    "num2 = len(P)\n",
    "print( 'number of processes with second generation:' + str(num2))"
   ]
  },
  {
   "cell_type": "code",
   "execution_count": 5,
   "metadata": {
    "collapsed": false
   },
   "outputs": [
    {
     "data": {
      "image/png": "[encoded data removed]",
      "text/plain": [
       "<matplotlib.figure.Figure at 0x7f665b42ad30>"
      ]
     },
     "metadata": {},
     "output_type": "display_data"
    },
    {
     "name": "stdout",
     "output_type": "stream",
     "text": [
      "x_min = 2 x_max = 81 x_mean = 26.8666666667\n"
     ]
    }
   ],
   "source": [
    "GLen = [len(p.generations) for p in P]\n",
    "cnt = Counter() \n",
    "for l in GLen:\n",
    "    cnt[l] += 1\n",
    "Itm = cnt.items()\n",
    "Y = [num for (l,num) in Itm]\n",
    "X = [l for (l,num) in Itm]\n",
    "plt.title(\"the dependence of the number of generations in the pedigree of the number of pedigrees\")\n",
    "plt.hist(Y, X)\n",
    "plt.show()\n",
    "\n",
    "x_min = np.min(X)\n",
    "x_max = np.max(X)\n",
    "x_mean = np.mean(X)\n",
    "\n",
    "print('x_min = '+ str(x_min) + ' x_max = '+ str(x_max) + ' x_mean = '+ str(x_mean))"
   ]
  },
  {
   "cell_type": "code",
   "execution_count": 6,
   "metadata": {
    "collapsed": false
   },
   "outputs": [
    {
     "data": {
      "image/png": "[encoded data removed]",
      "text/plain": [
       "<matplotlib.figure.Figure at 0x7f665954c940>"
      ]
     },
     "metadata": {},
     "output_type": "display_data"
    }
   ],
   "source": [
    "import timestring\n",
    "from dateutil.relativedelta import relativedelta\n",
    "def parse_year(str):\n",
    "    s= str.split('-')\n",
    "    if (s[0] != ''):\n",
    "        return int(s[0])\n",
    "\n",
    "def parse_delta(p):\n",
    "    str1,str2 = p.birthday, p.deathdate\n",
    "    s1 = str1.split('-')\n",
    "    s2 = str2.split('-')\n",
    "    if ((s2[0] == '') | (s1[0] == '')):\n",
    "        return\n",
    "    else:\n",
    "        diff = parse_year(str2) - parse_year(str1)\n",
    "        return diff\n",
    "\n",
    "DeltaYears = []\n",
    "BirthYears = []\n",
    "\n",
    "for p in Persons:\n",
    "    res = parse_delta(p)\n",
    "    if (res):\n",
    "        if ( (res >= 0) & (res < 150)):\n",
    "            DeltaYears.append(res)\n",
    "            BirthYears.append(parse_year(p.birthday))\n",
    "\n",
    "Date = [parse_year(p.birthday) for p in Persons]\n",
    "plt.title('the years of birth of people')\n",
    "plt.plot(Date, np.zeros_like(Date), 'x', alpha=0.005) #it's hard to understand with bigger alpha \n",
    "plt.show()\n",
    "\n"
   ]
  },
  {
   "cell_type": "code",
   "execution_count": 7,
   "metadata": {
    "collapsed": false
   },
   "outputs": [
    {
     "name": "stdout",
     "output_type": "stream",
     "text": [
      "biggest life = 149 smallest life = 1 life mean = 60.7145136911\n",
      "biggest life birthday= 1811 smallest life birthday= 1917\n"
     ]
    }
   ],
   "source": [
    "biggest_life = np.max(DeltaYears)\n",
    "birth_biggest = BirthYears[DeltaYears.index(biggest_life)]\n",
    "smallest_life = np.min(DeltaYears)\n",
    "birth_smallest = BirthYears[DeltaYears.index(smallest_life)]\n",
    "mean_life = np.mean(DeltaYears)\n",
    "print('biggest life = '+ str(biggest_life) + ' smallest life = '+ str(smallest_life) + ' life mean = '+ str(mean_life))\n",
    "print('biggest life birthday= '+ str(birth_biggest) + ' smallest life birthday= '+ str(birth_smallest))\n"
   ]
  },
  {
   "cell_type": "markdown",
   "metadata": {},
   "source": [
    "Так как инфомация  исходных данных недостоверна, то мы не брали во внимание людей, путешествующих во времени"
   ]
  },
  {
   "cell_type": "code",
   "execution_count": 8,
   "metadata": {
    "collapsed": false
   },
   "outputs": [],
   "source": [
    "DefaultProcess = []\n",
    "for p in P:\n",
    "    for i in range(len(p.generations)):\n",
    "        if len(DefaultProcess) <= i:\n",
    "            DefaultProcess.append(p.generations[i])\n",
    "        else:\n",
    "            DefaultProcess[i] = DefaultProcess[i] + p.generations[i]"
   ]
  },
  {
   "cell_type": "code",
   "execution_count": 11,
   "metadata": {
    "collapsed": false
   },
   "outputs": [],
   "source": [
    "Fem = []\n",
    "for p in Persons:\n",
    "    if (p.gender != 'male'):\n",
    "        Fem.append(p.name)\n",
    "        Persons.remove(p)\n",
    "    elif (p.birthday == '' or parse_year(p.birthday) < 1950):\n",
    "        Persons.remove(p)\n"
   ]
  },
  {
   "cell_type": "code",
   "execution_count": 12,
   "metadata": {
    "collapsed": false
   },
   "outputs": [
    {
     "data": {
      "image/png": "[encoded data removed]",
      "text/plain": [
       "<matplotlib.figure.Figure at 0x7f66594a3c88>"
      ]
     },
     "metadata": {},
     "output_type": "display_data"
    }
   ],
   "source": [
    "FemSet = set(Fem)\n",
    "X = []\n",
    "Y = []\n",
    "for proc in P:\n",
    "    PX = []\n",
    "    for gen in proc.generations:\n",
    "        for per in gen:\n",
    "            Ch = []\n",
    "            for ch in per.children:\n",
    "                if (ch not in FemSet):\n",
    "                    Ch.append(ch)\n",
    "            PX.append(len(Ch))\n",
    "    X.append(PX)\n",
    "    Y.append(len(proc.generations))\n",
    "Means = [np.mean(PX) for PX in X]\n",
    "one_big_sum = np.sum([np.sum(XP) for XP in X ])\n",
    "one_big_size = np.sum([len(XP) for XP in X])\n",
    "one_big_mean = one_big_sum/one_big_size\n",
    "plt.title('$the  dependence  of  the  \\lambda  on  generation  length$')\n",
    "plt.plot(Y,Means)\n",
    "plt.show()"
   ]
  },
  {
   "cell_type": "markdown",
   "metadata": {},
   "source": [
    "Так как для каждого мужчины количество его потомков-мужчин - случайная величина с Пуассоновским распределением, то ${\\hat{\\lambda}} = \\bar{x}$, как оценка максимального правдоподобия для данного распределения (выборкой в данном случае является количество детей - мальчиков у каждого из мужчин в процессе, так как все эти с.в. независимы и одинаково распределены)"
   ]
  },
  {
   "cell_type": "code",
   "execution_count": 13,
   "metadata": {
    "collapsed": false
   },
   "outputs": [
    {
     "name": "stdout",
     "output_type": "stream",
     "text": [
      "1.7201956998\n"
     ]
    }
   ],
   "source": [
    "print(one_big_mean)"
   ]
  },
  {
   "cell_type": "markdown",
   "metadata": {},
   "source": [
    "Собственно, само распределение на графике ниже ($\\hat\\lambda = 1.72$)"
   ]
  },
  {
   "cell_type": "code",
   "execution_count": 14,
   "metadata": {
    "collapsed": false
   },
   "outputs": [
    {
     "data": {
      "image/png": "[encoded data removed]",
      "text/plain": [
       "<matplotlib.figure.Figure at 0x7f6659547668>"
      ]
     },
     "metadata": {},
     "output_type": "display_data"
    }
   ],
   "source": [
    "from scipy.stats import poisson\n",
    "import matplotlib.pyplot as plt\n",
    "fig, ax = plt.subplots(1, 1)\n",
    "mu = one_big_mean\n",
    "mean, var, skew, kurt = poisson.stats(mu, moments='mvsk')\n",
    "x = np.arange(poisson.ppf(0.001, mu),\n",
    "              poisson.ppf(0.9999, mu))\n",
    "ax.plot(x, poisson.pmf(x, mu), 'bo', ms=8, label='poisson pmf')\n",
    "ax.vlines(x, 0, poisson.pmf(x, mu), colors='b', lw=5, alpha=0.5)\n",
    "plt.show()"
   ]
  },
  {
   "cell_type": "code",
   "execution_count": 15,
   "metadata": {
    "collapsed": false
   },
   "outputs": [
    {
     "name": "stdout",
     "output_type": "stream",
     "text": [
      "0.954869847267\n"
     ]
    }
   ],
   "source": [
    "mean = np.mean([ len(DefaultProcess[i+1])/len(DefaultProcess[i]) for i in range(len(DefaultProcess) - 1)])\n",
    "print(mean)"
   ]
  },
  {
   "cell_type": "code",
   "execution_count": 21,
   "metadata": {
    "collapsed": false
   },
   "outputs": [
    {
     "name": "stdout",
     "output_type": "stream",
     "text": [
      "[19769, 11481, 6585, 3758, 2163, 1327, 747, 403, 242, 130, 69, 41, 34, 22, 17, 12, 5, 2, 2]\n"
     ]
    }
   ],
   "source": [
    "def rand():\n",
    "    return sps.poisson.rvs(one_big_mean)\n",
    "\n",
    "next_gen = len(DefaultProcess[0])\n",
    "\n",
    "PrevGenerations = []\n",
    "counter  = 0\n",
    "while(next_gen > 1) :\n",
    "    ch_sum = 0\n",
    "    num_gays = 0\n",
    "    PG = []\n",
    "    while (ch_sum < next_gen):\n",
    "        num_gays += 1\n",
    "        diff = rand()\n",
    "        if (ch_sum + diff < next_gen):\n",
    "            PG.append(diff)\n",
    "            ch_sum += diff\n",
    "        else:\n",
    "            PG.append(next_gen - ch_sum)\n",
    "            ch_sum = next_gen\n",
    "    PrevGenerations.append(PG)\n",
    "    next_gen = num_gays\n",
    "    counter += 1\n",
    "print([np.sum(PG) for PG in PrevGenerations])"
   ]
  },
  {
   "cell_type": "code",
   "execution_count": 22,
   "metadata": {
    "collapsed": false
   },
   "outputs": [
    {
     "name": "stdout",
     "output_type": "stream",
     "text": [
      "19\n"
     ]
    }
   ],
   "source": [
    "print(len(PrevGenerations))"
   ]
  }
 ],
 "metadata": {
  "kernelspec": {
   "display_name": "Python 3",
   "language": "python",
   "name": "python3"
  },
  "language_info": {
   "codemirror_mode": {
    "name": "ipython",
    "version": 3
   },
   "file_extension": ".py",
   "mimetype": "text/x-python",
   "name": "python",
   "nbconvert_exporter": "python",
   "pygments_lexer": "ipython3",
   "version": "3.5.0"
  }
 },
 "nbformat": 4,
 "nbformat_minor": 0
}
